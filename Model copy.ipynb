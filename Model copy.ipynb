{
 "cells": [
  {
   "cell_type": "code",
   "execution_count": 1,
   "metadata": {},
   "outputs": [
    {
     "name": "stderr",
     "output_type": "stream",
     "text": [
      "2022-04-11 19:29:42.723326: W tensorflow/stream_executor/platform/default/dso_loader.cc:64] Could not load dynamic library 'libcudart.so.11.0'; dlerror: libcudart.so.11.0: cannot open shared object file: No such file or directory\n",
      "2022-04-11 19:29:42.723363: I tensorflow/stream_executor/cuda/cudart_stub.cc:29] Ignore above cudart dlerror if you do not have a GPU set up on your machine.\n"
     ]
    }
   ],
   "source": [
    "from sklearn.datasets import fetch_california_housing\n",
    "from sklearn.model_selection import train_test_split\n",
    "from sklearn.preprocessing import StandardScaler\n",
    "import numpy as np\n",
    "import tensorflow as tf\n",
    "import pandas as pd\n",
    "from tensorflow.python.client import device_lib \n",
    "from tensorflow import keras\n",
    "from tensorflow.keras import layers\n",
    "import prepdatamodel as pdm"
   ]
  },
  {
   "cell_type": "code",
   "execution_count": 2,
   "metadata": {},
   "outputs": [],
   "source": [
    "heart = pd.read_csv('heart_2020_cleaned.csv')"
   ]
  },
  {
   "cell_type": "code",
   "execution_count": 3,
   "metadata": {},
   "outputs": [
    {
     "data": {
      "text/plain": [
       "Index(['HeartDisease', 'BMI', 'Smoking', 'AlcoholDrinking', 'Stroke',\n",
       "       'PhysicalHealth', 'MentalHealth', 'DiffWalking', 'Sex', 'AgeCategory',\n",
       "       'Race', 'Diabetic', 'PhysicalActivity', 'GenHealth', 'SleepTime',\n",
       "       'Asthma', 'KidneyDisease', 'SkinCancer'],\n",
       "      dtype='object')"
      ]
     },
     "execution_count": 3,
     "metadata": {},
     "output_type": "execute_result"
    }
   ],
   "source": [
    "heart.columns"
   ]
  },
  {
   "cell_type": "code",
   "execution_count": 4,
   "metadata": {},
   "outputs": [],
   "source": [
    "col_bin = ['HeartDisease']"
   ]
  },
  {
   "cell_type": "code",
   "execution_count": 5,
   "metadata": {},
   "outputs": [],
   "source": [
    "heart = pdm.binary(heart, col_bin)\n",
    "heart = pdm.age(heart, 'AgeCategory')"
   ]
  },
  {
   "cell_type": "code",
   "execution_count": 6,
   "metadata": {},
   "outputs": [
    {
     "data": {
      "text/html": [
       "<div>\n",
       "<style scoped>\n",
       "    .dataframe tbody tr th:only-of-type {\n",
       "        vertical-align: middle;\n",
       "    }\n",
       "\n",
       "    .dataframe tbody tr th {\n",
       "        vertical-align: top;\n",
       "    }\n",
       "\n",
       "    .dataframe thead th {\n",
       "        text-align: right;\n",
       "    }\n",
       "</style>\n",
       "<table border=\"1\" class=\"dataframe\">\n",
       "  <thead>\n",
       "    <tr style=\"text-align: right;\">\n",
       "      <th></th>\n",
       "      <th>HeartDisease</th>\n",
       "      <th>BMI</th>\n",
       "      <th>Smoking</th>\n",
       "      <th>AlcoholDrinking</th>\n",
       "      <th>Stroke</th>\n",
       "      <th>PhysicalHealth</th>\n",
       "      <th>MentalHealth</th>\n",
       "      <th>DiffWalking</th>\n",
       "      <th>Sex</th>\n",
       "      <th>AgeCategory</th>\n",
       "      <th>Race</th>\n",
       "      <th>Diabetic</th>\n",
       "      <th>PhysicalActivity</th>\n",
       "      <th>GenHealth</th>\n",
       "      <th>SleepTime</th>\n",
       "      <th>Asthma</th>\n",
       "      <th>KidneyDisease</th>\n",
       "      <th>SkinCancer</th>\n",
       "    </tr>\n",
       "  </thead>\n",
       "  <tbody>\n",
       "    <tr>\n",
       "      <th>0</th>\n",
       "      <td>0</td>\n",
       "      <td>16.60</td>\n",
       "      <td>Yes</td>\n",
       "      <td>No</td>\n",
       "      <td>No</td>\n",
       "      <td>3.0</td>\n",
       "      <td>30.0</td>\n",
       "      <td>No</td>\n",
       "      <td>Female</td>\n",
       "      <td>57</td>\n",
       "      <td>White</td>\n",
       "      <td>Yes</td>\n",
       "      <td>Yes</td>\n",
       "      <td>Very good</td>\n",
       "      <td>5.0</td>\n",
       "      <td>Yes</td>\n",
       "      <td>No</td>\n",
       "      <td>Yes</td>\n",
       "    </tr>\n",
       "    <tr>\n",
       "      <th>1</th>\n",
       "      <td>0</td>\n",
       "      <td>20.34</td>\n",
       "      <td>No</td>\n",
       "      <td>No</td>\n",
       "      <td>Yes</td>\n",
       "      <td>0.0</td>\n",
       "      <td>0.0</td>\n",
       "      <td>No</td>\n",
       "      <td>Female</td>\n",
       "      <td>85</td>\n",
       "      <td>White</td>\n",
       "      <td>No</td>\n",
       "      <td>Yes</td>\n",
       "      <td>Very good</td>\n",
       "      <td>7.0</td>\n",
       "      <td>No</td>\n",
       "      <td>No</td>\n",
       "      <td>No</td>\n",
       "    </tr>\n",
       "    <tr>\n",
       "      <th>2</th>\n",
       "      <td>0</td>\n",
       "      <td>26.58</td>\n",
       "      <td>Yes</td>\n",
       "      <td>No</td>\n",
       "      <td>No</td>\n",
       "      <td>20.0</td>\n",
       "      <td>30.0</td>\n",
       "      <td>No</td>\n",
       "      <td>Male</td>\n",
       "      <td>67</td>\n",
       "      <td>White</td>\n",
       "      <td>Yes</td>\n",
       "      <td>Yes</td>\n",
       "      <td>Fair</td>\n",
       "      <td>8.0</td>\n",
       "      <td>Yes</td>\n",
       "      <td>No</td>\n",
       "      <td>No</td>\n",
       "    </tr>\n",
       "    <tr>\n",
       "      <th>3</th>\n",
       "      <td>0</td>\n",
       "      <td>24.21</td>\n",
       "      <td>No</td>\n",
       "      <td>No</td>\n",
       "      <td>No</td>\n",
       "      <td>0.0</td>\n",
       "      <td>0.0</td>\n",
       "      <td>No</td>\n",
       "      <td>Female</td>\n",
       "      <td>77</td>\n",
       "      <td>White</td>\n",
       "      <td>No</td>\n",
       "      <td>No</td>\n",
       "      <td>Good</td>\n",
       "      <td>6.0</td>\n",
       "      <td>No</td>\n",
       "      <td>No</td>\n",
       "      <td>Yes</td>\n",
       "    </tr>\n",
       "    <tr>\n",
       "      <th>4</th>\n",
       "      <td>0</td>\n",
       "      <td>23.71</td>\n",
       "      <td>No</td>\n",
       "      <td>No</td>\n",
       "      <td>No</td>\n",
       "      <td>28.0</td>\n",
       "      <td>0.0</td>\n",
       "      <td>Yes</td>\n",
       "      <td>Female</td>\n",
       "      <td>42</td>\n",
       "      <td>White</td>\n",
       "      <td>No</td>\n",
       "      <td>Yes</td>\n",
       "      <td>Very good</td>\n",
       "      <td>8.0</td>\n",
       "      <td>No</td>\n",
       "      <td>No</td>\n",
       "      <td>No</td>\n",
       "    </tr>\n",
       "  </tbody>\n",
       "</table>\n",
       "</div>"
      ],
      "text/plain": [
       "   HeartDisease    BMI Smoking AlcoholDrinking Stroke  PhysicalHealth  \\\n",
       "0             0  16.60     Yes              No     No             3.0   \n",
       "1             0  20.34      No              No    Yes             0.0   \n",
       "2             0  26.58     Yes              No     No            20.0   \n",
       "3             0  24.21      No              No     No             0.0   \n",
       "4             0  23.71      No              No     No            28.0   \n",
       "\n",
       "   MentalHealth DiffWalking     Sex  AgeCategory   Race Diabetic  \\\n",
       "0          30.0          No  Female           57  White      Yes   \n",
       "1           0.0          No  Female           85  White       No   \n",
       "2          30.0          No    Male           67  White      Yes   \n",
       "3           0.0          No  Female           77  White       No   \n",
       "4           0.0         Yes  Female           42  White       No   \n",
       "\n",
       "  PhysicalActivity  GenHealth  SleepTime Asthma KidneyDisease SkinCancer  \n",
       "0              Yes  Very good        5.0    Yes            No        Yes  \n",
       "1              Yes  Very good        7.0     No            No         No  \n",
       "2              Yes       Fair        8.0    Yes            No         No  \n",
       "3               No       Good        6.0     No            No        Yes  \n",
       "4              Yes  Very good        8.0     No            No         No  "
      ]
     },
     "execution_count": 6,
     "metadata": {},
     "output_type": "execute_result"
    }
   ],
   "source": [
    "heart.head(5)"
   ]
  },
  {
   "cell_type": "code",
   "execution_count": 7,
   "metadata": {},
   "outputs": [],
   "source": [
    "heartyes = heart[heart.HeartDisease == 1]\n",
    "heartno = heart[heart.HeartDisease == 0]\n",
    "heartnodrop = heartno.sample(frac = 0.9, random_state = 0)\n",
    "heart = heart.drop(heartnodrop.index)"
   ]
  },
  {
   "cell_type": "code",
   "execution_count": 8,
   "metadata": {},
   "outputs": [
    {
     "data": {
      "text/plain": [
       "5          6.0\n",
       "10        30.0\n",
       "23         0.0\n",
       "29         0.0\n",
       "35        10.0\n",
       "          ... \n",
       "319765    30.0\n",
       "319767     0.0\n",
       "319781     0.0\n",
       "319786     0.0\n",
       "319790     7.0\n",
       "Name: PhysicalHealth, Length: 56615, dtype: float64"
      ]
     },
     "execution_count": 8,
     "metadata": {},
     "output_type": "execute_result"
    }
   ],
   "source": [
    "heart.head(5)\n",
    "heart.pop('BMI')\n",
    "heart.pop('MentalHealth')\n",
    "heart.pop('PhysicalHealth')"
   ]
  },
  {
   "cell_type": "code",
   "execution_count": 9,
   "metadata": {},
   "outputs": [],
   "source": [
    "col_num = ['AgeCategory' , 'SleepTime']"
   ]
  },
  {
   "cell_type": "code",
   "execution_count": 10,
   "metadata": {},
   "outputs": [],
   "source": [
    "col_cat = ['Sex', 'Race', 'Diabetic', 'GenHealth','Smoking', 'AlcoholDrinking', 'Stroke', 'DiffWalking', 'PhysicalActivity', 'Asthma', 'KidneyDisease', 'SkinCancer']"
   ]
  },
  {
   "cell_type": "code",
   "execution_count": 11,
   "metadata": {},
   "outputs": [],
   "source": [
    "heart_train = heart.sample(frac = 0.8, random_state = 0)\n",
    "heart_test = heart.drop(heart_train.index)"
   ]
  },
  {
   "cell_type": "code",
   "execution_count": 12,
   "metadata": {},
   "outputs": [],
   "source": [
    "heart_train_answer = heart_train.pop(\"HeartDisease\")\n",
    "heart_test_answer = heart_test.pop(\"HeartDisease\")"
   ]
  },
  {
   "cell_type": "code",
   "execution_count": 13,
   "metadata": {},
   "outputs": [
    {
     "data": {
      "text/plain": [
       "array([1, 1, 0, ..., 0, 1, 0])"
      ]
     },
     "execution_count": 13,
     "metadata": {},
     "output_type": "execute_result"
    }
   ],
   "source": [
    "Y = heart_train_answer.values\n",
    "X = pdm.pipeline(heart_train, col_num, col_cat)\n",
    "Y"
   ]
  },
  {
   "cell_type": "code",
   "execution_count": 14,
   "metadata": {},
   "outputs": [
    {
     "data": {
      "text/plain": [
       "(45292, 35)"
      ]
     },
     "execution_count": 14,
     "metadata": {},
     "output_type": "execute_result"
    }
   ],
   "source": [
    "X.shape"
   ]
  },
  {
   "cell_type": "code",
   "execution_count": 15,
   "metadata": {},
   "outputs": [],
   "source": [
    "y = heart_test_answer.values\n",
    "x = pdm.pipeline(heart_test, col_num, col_cat)"
   ]
  },
  {
   "cell_type": "code",
   "execution_count": 16,
   "metadata": {},
   "outputs": [
    {
     "name": "stderr",
     "output_type": "stream",
     "text": [
      "2022-04-11 19:29:47.413899: I tensorflow/stream_executor/cuda/cuda_gpu_executor.cc:936] successful NUMA node read from SysFS had negative value (-1), but there must be at least one NUMA node, so returning NUMA node zero\n",
      "2022-04-11 19:29:47.414355: W tensorflow/stream_executor/platform/default/dso_loader.cc:64] Could not load dynamic library 'libcudart.so.11.0'; dlerror: libcudart.so.11.0: cannot open shared object file: No such file or directory\n",
      "2022-04-11 19:29:47.414427: W tensorflow/stream_executor/platform/default/dso_loader.cc:64] Could not load dynamic library 'libcublas.so.11'; dlerror: libcublas.so.11: cannot open shared object file: No such file or directory\n",
      "2022-04-11 19:29:47.414484: W tensorflow/stream_executor/platform/default/dso_loader.cc:64] Could not load dynamic library 'libcublasLt.so.11'; dlerror: libcublasLt.so.11: cannot open shared object file: No such file or directory\n",
      "2022-04-11 19:29:47.414539: W tensorflow/stream_executor/platform/default/dso_loader.cc:64] Could not load dynamic library 'libcufft.so.10'; dlerror: libcufft.so.10: cannot open shared object file: No such file or directory\n",
      "2022-04-11 19:29:47.414594: W tensorflow/stream_executor/platform/default/dso_loader.cc:64] Could not load dynamic library 'libcurand.so.10'; dlerror: libcurand.so.10: cannot open shared object file: No such file or directory\n",
      "2022-04-11 19:29:47.414647: W tensorflow/stream_executor/platform/default/dso_loader.cc:64] Could not load dynamic library 'libcusolver.so.11'; dlerror: libcusolver.so.11: cannot open shared object file: No such file or directory\n",
      "2022-04-11 19:29:47.414697: W tensorflow/stream_executor/platform/default/dso_loader.cc:64] Could not load dynamic library 'libcusparse.so.11'; dlerror: libcusparse.so.11: cannot open shared object file: No such file or directory\n",
      "2022-04-11 19:29:47.414749: W tensorflow/stream_executor/platform/default/dso_loader.cc:64] Could not load dynamic library 'libcudnn.so.8'; dlerror: libcudnn.so.8: cannot open shared object file: No such file or directory\n",
      "2022-04-11 19:29:47.414758: W tensorflow/core/common_runtime/gpu/gpu_device.cc:1850] Cannot dlopen some GPU libraries. Please make sure the missing libraries mentioned above are installed properly if you would like to use GPU. Follow the guide at https://www.tensorflow.org/install/gpu for how to download and setup the required libraries for your platform.\n",
      "Skipping registering GPU devices...\n",
      "2022-04-11 19:29:47.415869: I tensorflow/core/platform/cpu_feature_guard.cc:151] This TensorFlow binary is optimized with oneAPI Deep Neural Network Library (oneDNN) to use the following CPU instructions in performance-critical operations:  AVX2 FMA\n",
      "To enable them in other operations, rebuild TensorFlow with the appropriate compiler flags.\n"
     ]
    }
   ],
   "source": [
    "model = keras.models.Sequential([\n",
    "keras.layers.Dense(64, activation=\"relu\", input_shape=X.shape[1:]),\n",
    "keras.layers.Dense(128, activation=\"relu\"),\n",
    "keras.layers.Dropout(.1),\n",
    "keras.layers.Dense(1)\n",
    "])\n",
    "callback = tf.keras.callbacks.EarlyStopping(monitor='val_loss', patience=10, restore_best_weights= True)\n",
    "model.compile(loss=\"mean_squared_error\", optimizer= \"sgd\", metrics=['accuracy'])"
   ]
  },
  {
   "cell_type": "code",
   "execution_count": 17,
   "metadata": {},
   "outputs": [
    {
     "name": "stdout",
     "output_type": "stream",
     "text": [
      "Epoch 1/100\n",
      "991/991 [==============================] - 2s 1ms/step - loss: 0.1856 - accuracy: 0.7259 - val_loss: 0.1703 - val_accuracy: 0.7552\n",
      "Epoch 2/100\n",
      "991/991 [==============================] - 1s 1ms/step - loss: 0.1713 - accuracy: 0.7537 - val_loss: 0.1672 - val_accuracy: 0.7599\n",
      "Epoch 3/100\n",
      "991/991 [==============================] - 1s 1ms/step - loss: 0.1677 - accuracy: 0.7582 - val_loss: 0.1664 - val_accuracy: 0.7602\n",
      "Epoch 4/100\n",
      "991/991 [==============================] - 1s 1ms/step - loss: 0.1668 - accuracy: 0.7585 - val_loss: 0.1659 - val_accuracy: 0.7604\n",
      "Epoch 5/100\n",
      "991/991 [==============================] - 1s 1ms/step - loss: 0.1657 - accuracy: 0.7612 - val_loss: 0.1653 - val_accuracy: 0.7622\n",
      "Epoch 6/100\n",
      "991/991 [==============================] - 1s 1ms/step - loss: 0.1649 - accuracy: 0.7619 - val_loss: 0.1644 - val_accuracy: 0.7629\n",
      "Epoch 7/100\n",
      "991/991 [==============================] - 1s 1ms/step - loss: 0.1642 - accuracy: 0.7629 - val_loss: 0.1652 - val_accuracy: 0.7619\n",
      "Epoch 8/100\n",
      "991/991 [==============================] - 1s 1ms/step - loss: 0.1637 - accuracy: 0.7624 - val_loss: 0.1639 - val_accuracy: 0.7636\n",
      "Epoch 9/100\n",
      "991/991 [==============================] - 1s 1ms/step - loss: 0.1634 - accuracy: 0.7647 - val_loss: 0.1645 - val_accuracy: 0.7628\n",
      "Epoch 10/100\n",
      "991/991 [==============================] - 1s 1ms/step - loss: 0.1629 - accuracy: 0.7654 - val_loss: 0.1646 - val_accuracy: 0.7630\n",
      "Epoch 11/100\n",
      "991/991 [==============================] - 1s 1ms/step - loss: 0.1626 - accuracy: 0.7642 - val_loss: 0.1637 - val_accuracy: 0.7638\n",
      "Epoch 12/100\n",
      "991/991 [==============================] - 1s 1ms/step - loss: 0.1624 - accuracy: 0.7636 - val_loss: 0.1635 - val_accuracy: 0.7636\n",
      "Epoch 13/100\n",
      "991/991 [==============================] - 1s 1ms/step - loss: 0.1623 - accuracy: 0.7642 - val_loss: 0.1633 - val_accuracy: 0.7640\n",
      "Epoch 14/100\n",
      "991/991 [==============================] - 1s 1ms/step - loss: 0.1621 - accuracy: 0.7654 - val_loss: 0.1637 - val_accuracy: 0.7620\n",
      "Epoch 15/100\n",
      "991/991 [==============================] - 1s 1ms/step - loss: 0.1616 - accuracy: 0.7662 - val_loss: 0.1631 - val_accuracy: 0.7638\n",
      "Epoch 16/100\n",
      "991/991 [==============================] - 1s 1ms/step - loss: 0.1618 - accuracy: 0.7643 - val_loss: 0.1635 - val_accuracy: 0.7640\n",
      "Epoch 17/100\n",
      "991/991 [==============================] - 1s 1ms/step - loss: 0.1613 - accuracy: 0.7649 - val_loss: 0.1630 - val_accuracy: 0.7640\n",
      "Epoch 18/100\n",
      "991/991 [==============================] - 1s 1ms/step - loss: 0.1613 - accuracy: 0.7665 - val_loss: 0.1630 - val_accuracy: 0.7646\n",
      "Epoch 19/100\n",
      "991/991 [==============================] - 1s 1ms/step - loss: 0.1612 - accuracy: 0.7654 - val_loss: 0.1628 - val_accuracy: 0.7646\n",
      "Epoch 20/100\n",
      "991/991 [==============================] - 1s 1ms/step - loss: 0.1611 - accuracy: 0.7667 - val_loss: 0.1629 - val_accuracy: 0.7641\n",
      "Epoch 21/100\n",
      "991/991 [==============================] - 1s 1ms/step - loss: 0.1607 - accuracy: 0.7666 - val_loss: 0.1631 - val_accuracy: 0.7624\n",
      "Epoch 22/100\n",
      "991/991 [==============================] - 1s 1ms/step - loss: 0.1607 - accuracy: 0.7672 - val_loss: 0.1633 - val_accuracy: 0.7635\n",
      "Epoch 23/100\n",
      "991/991 [==============================] - 1s 1ms/step - loss: 0.1608 - accuracy: 0.7672 - val_loss: 0.1630 - val_accuracy: 0.7642\n",
      "Epoch 24/100\n",
      "991/991 [==============================] - 1s 1ms/step - loss: 0.1606 - accuracy: 0.7672 - val_loss: 0.1631 - val_accuracy: 0.7640\n",
      "Epoch 25/100\n",
      "991/991 [==============================] - 1s 1ms/step - loss: 0.1605 - accuracy: 0.7666 - val_loss: 0.1635 - val_accuracy: 0.7630\n",
      "Epoch 26/100\n",
      "991/991 [==============================] - 1s 1ms/step - loss: 0.1602 - accuracy: 0.7661 - val_loss: 0.1629 - val_accuracy: 0.7644\n",
      "Epoch 27/100\n",
      "991/991 [==============================] - 1s 1ms/step - loss: 0.1602 - accuracy: 0.7678 - val_loss: 0.1629 - val_accuracy: 0.7637\n",
      "Epoch 28/100\n",
      "991/991 [==============================] - 1s 1ms/step - loss: 0.1602 - accuracy: 0.7671 - val_loss: 0.1633 - val_accuracy: 0.7626\n",
      "Epoch 29/100\n",
      "991/991 [==============================] - 1s 1ms/step - loss: 0.1603 - accuracy: 0.7677 - val_loss: 0.1631 - val_accuracy: 0.7636\n"
     ]
    }
   ],
   "source": [
    "history = model.fit(X, Y, epochs=100, validation_split = 0.3,\n",
    "                     callbacks=[callback])"
   ]
  },
  {
   "cell_type": "code",
   "execution_count": 18,
   "metadata": {},
   "outputs": [
    {
     "name": "stderr",
     "output_type": "stream",
     "text": [
      "2022-04-11 19:30:27.369885: W tensorflow/python/util/util.cc:368] Sets are not currently considered sequences, but this may change in the future, so consider avoiding using them.\n"
     ]
    },
    {
     "name": "stdout",
     "output_type": "stream",
     "text": [
      "INFO:tensorflow:Assets written to: model1/assets\n"
     ]
    }
   ],
   "source": [
    "model.save('model1')"
   ]
  },
  {
   "cell_type": "code",
   "execution_count": 19,
   "metadata": {},
   "outputs": [
    {
     "name": "stdout",
     "output_type": "stream",
     "text": [
      "354/354 [==============================] - 0s 770us/step - loss: 0.1601 - accuracy: 0.7668\n"
     ]
    }
   ],
   "source": [
    "mse_test = model.evaluate(x, y)\n",
    "p = model.predict(X).flatten()\n",
    "for i in range(len(p)):\n",
    "    p[i] = 1 if p[i] >= 0.5 else 0"
   ]
  },
  {
   "cell_type": "code",
   "execution_count": 20,
   "metadata": {},
   "outputs": [
    {
     "data": {
      "text/plain": [
       "0.212133624613144"
      ]
     },
     "execution_count": 20,
     "metadata": {},
     "output_type": "execute_result"
    }
   ],
   "source": [
    "a = Y - p\n",
    "q=0\n",
    "for i in range(len(a)):\n",
    "    a[i] = 1 if a[i] == 1 else 0\n",
    "    q+=1 if Y[i] == 1 else 0\n",
    "abs(a).sum()/q"
   ]
  },
  {
   "cell_type": "code",
   "execution_count": 21,
   "metadata": {},
   "outputs": [
    {
     "data": {
      "image/png": "[encoded data removed]",
      "text/plain": [
       "<Figure size 576x360 with 1 Axes>"
      ]
     },
     "metadata": {
      "needs_background": "light"
     },
     "output_type": "display_data"
    }
   ],
   "source": [
    "import pandas as pd\n",
    "import matplotlib.pyplot as plt\n",
    "pd.DataFrame(history.history).plot(figsize=(8, 5))\n",
    "plt.grid(True)\n",
    "plt.gca().set_ylim(0, 0.4)\n",
    "plt.show()"
   ]
  },
  {
   "cell_type": "markdown",
   "metadata": {},
   "source": [
    "import"
   ]
  },
  {
   "cell_type": "code",
   "execution_count": 22,
   "metadata": {},
   "outputs": [
    {
     "data": {
      "text/plain": [
       "array([0., 1., 1., 1., 1., 1., 1., 1., 1., 1., 1., 1., 0., 1., 1., 1., 1.,\n",
       "       1., 1., 1., 1., 1., 1., 1., 1., 0., 0., 1., 0., 0.], dtype=float32)"
      ]
     },
     "execution_count": 22,
     "metadata": {},
     "output_type": "execute_result"
    }
   ],
   "source": [
    "np.around(model.predict(x[:30]).flatten())"
   ]
  },
  {
   "cell_type": "code",
   "execution_count": 23,
   "metadata": {},
   "outputs": [
    {
     "data": {
      "text/plain": [
       "array([1, 1, 1, 1, 1, 1, 1, 1, 1, 0, 1, 0, 0, 1, 1, 1, 1, 1, 0, 1, 0, 1,\n",
       "       0, 1, 1, 0, 0, 0, 0, 1])"
      ]
     },
     "execution_count": 23,
     "metadata": {},
     "output_type": "execute_result"
    }
   ],
   "source": [
    "y[:30]"
   ]
  }
 ],
 "metadata": {
  "interpreter": {
   "hash": "916dbcbb3f70747c44a77c7bcd40155683ae19c65e1c03b4aa3499c5328201f1"
  },
  "kernelspec": {
   "display_name": "Python 3.8.10 64-bit",
   "language": "python",
   "name": "python3"
  },
  "language_info": {
   "codemirror_mode": {
    "name": "ipython",
    "version": 3
   },
   "file_extension": ".py",
   "mimetype": "text/x-python",
   "name": "python",
   "nbconvert_exporter": "python",
   "pygments_lexer": "ipython3",
   "version": "3.8.10"
  },
  "orig_nbformat": 4
 },
 "nbformat": 4,
 "nbformat_minor": 2
}
