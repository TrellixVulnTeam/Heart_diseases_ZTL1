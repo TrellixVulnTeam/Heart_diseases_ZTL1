{
 "cells": [
  {
   "cell_type": "code",
   "execution_count": 2,
   "metadata": {},
   "outputs": [
    {
     "name": "stderr",
     "output_type": "stream",
     "text": [
      "2022-03-29 21:29:45.246095: W tensorflow/stream_executor/platform/default/dso_loader.cc:64] Could not load dynamic library 'libcudart.so.11.0'; dlerror: libcudart.so.11.0: cannot open shared object file: No such file or directory\n",
      "2022-03-29 21:29:45.246126: I tensorflow/stream_executor/cuda/cudart_stub.cc:29] Ignore above cudart dlerror if you do not have a GPU set up on your machine.\n"
     ]
    }
   ],
   "source": [
    "from sklearn.datasets import fetch_california_housing\n",
    "from sklearn.model_selection import train_test_split\n",
    "from sklearn.preprocessing import StandardScaler\n",
    "import numpy as np\n",
    "import tensorflow as tf\n",
    "import pandas as pd\n",
    "from tensorflow.python.client import device_lib \n",
    "from tensorflow import keras\n",
    "from tensorflow.keras import layers\n",
    "import prepdatamodel as pdm"
   ]
  },
  {
   "cell_type": "code",
   "execution_count": 3,
   "metadata": {},
   "outputs": [],
   "source": [
    "heart = pd.read_csv('heart_2020_cleaned.csv')"
   ]
  },
  {
   "cell_type": "code",
   "execution_count": 4,
   "metadata": {},
   "outputs": [
    {
     "data": {
      "text/plain": [
       "Index(['HeartDisease', 'BMI', 'Smoking', 'AlcoholDrinking', 'Stroke',\n",
       "       'PhysicalHealth', 'MentalHealth', 'DiffWalking', 'Sex', 'AgeCategory',\n",
       "       'Race', 'Diabetic', 'PhysicalActivity', 'GenHealth', 'SleepTime',\n",
       "       'Asthma', 'KidneyDisease', 'SkinCancer'],\n",
       "      dtype='object')"
      ]
     },
     "execution_count": 4,
     "metadata": {},
     "output_type": "execute_result"
    }
   ],
   "source": [
    "heart.columns"
   ]
  },
  {
   "cell_type": "code",
   "execution_count": 5,
   "metadata": {},
   "outputs": [],
   "source": [
    "col_bin = ['HeartDisease']"
   ]
  },
  {
   "cell_type": "code",
   "execution_count": 6,
   "metadata": {},
   "outputs": [],
   "source": [
    "heart = pdm.binary(heart, col_bin)\n",
    "heart = pdm.age(heart, 'AgeCategory')"
   ]
  },
  {
   "cell_type": "code",
   "execution_count": 7,
   "metadata": {},
   "outputs": [
    {
     "data": {
      "text/html": [
       "<div>\n",
       "<style scoped>\n",
       "    .dataframe tbody tr th:only-of-type {\n",
       "        vertical-align: middle;\n",
       "    }\n",
       "\n",
       "    .dataframe tbody tr th {\n",
       "        vertical-align: top;\n",
       "    }\n",
       "\n",
       "    .dataframe thead th {\n",
       "        text-align: right;\n",
       "    }\n",
       "</style>\n",
       "<table border=\"1\" class=\"dataframe\">\n",
       "  <thead>\n",
       "    <tr style=\"text-align: right;\">\n",
       "      <th></th>\n",
       "      <th>HeartDisease</th>\n",
       "      <th>BMI</th>\n",
       "      <th>Smoking</th>\n",
       "      <th>AlcoholDrinking</th>\n",
       "      <th>Stroke</th>\n",
       "      <th>PhysicalHealth</th>\n",
       "      <th>MentalHealth</th>\n",
       "      <th>DiffWalking</th>\n",
       "      <th>Sex</th>\n",
       "      <th>AgeCategory</th>\n",
       "      <th>Race</th>\n",
       "      <th>Diabetic</th>\n",
       "      <th>PhysicalActivity</th>\n",
       "      <th>GenHealth</th>\n",
       "      <th>SleepTime</th>\n",
       "      <th>Asthma</th>\n",
       "      <th>KidneyDisease</th>\n",
       "      <th>SkinCancer</th>\n",
       "    </tr>\n",
       "  </thead>\n",
       "  <tbody>\n",
       "    <tr>\n",
       "      <th>0</th>\n",
       "      <td>0</td>\n",
       "      <td>16.60</td>\n",
       "      <td>Yes</td>\n",
       "      <td>No</td>\n",
       "      <td>No</td>\n",
       "      <td>3.0</td>\n",
       "      <td>30.0</td>\n",
       "      <td>No</td>\n",
       "      <td>Female</td>\n",
       "      <td>57</td>\n",
       "      <td>White</td>\n",
       "      <td>Yes</td>\n",
       "      <td>Yes</td>\n",
       "      <td>Very good</td>\n",
       "      <td>5.0</td>\n",
       "      <td>Yes</td>\n",
       "      <td>No</td>\n",
       "      <td>Yes</td>\n",
       "    </tr>\n",
       "    <tr>\n",
       "      <th>1</th>\n",
       "      <td>0</td>\n",
       "      <td>20.34</td>\n",
       "      <td>No</td>\n",
       "      <td>No</td>\n",
       "      <td>Yes</td>\n",
       "      <td>0.0</td>\n",
       "      <td>0.0</td>\n",
       "      <td>No</td>\n",
       "      <td>Female</td>\n",
       "      <td>85</td>\n",
       "      <td>White</td>\n",
       "      <td>No</td>\n",
       "      <td>Yes</td>\n",
       "      <td>Very good</td>\n",
       "      <td>7.0</td>\n",
       "      <td>No</td>\n",
       "      <td>No</td>\n",
       "      <td>No</td>\n",
       "    </tr>\n",
       "    <tr>\n",
       "      <th>2</th>\n",
       "      <td>0</td>\n",
       "      <td>26.58</td>\n",
       "      <td>Yes</td>\n",
       "      <td>No</td>\n",
       "      <td>No</td>\n",
       "      <td>20.0</td>\n",
       "      <td>30.0</td>\n",
       "      <td>No</td>\n",
       "      <td>Male</td>\n",
       "      <td>67</td>\n",
       "      <td>White</td>\n",
       "      <td>Yes</td>\n",
       "      <td>Yes</td>\n",
       "      <td>Fair</td>\n",
       "      <td>8.0</td>\n",
       "      <td>Yes</td>\n",
       "      <td>No</td>\n",
       "      <td>No</td>\n",
       "    </tr>\n",
       "    <tr>\n",
       "      <th>3</th>\n",
       "      <td>0</td>\n",
       "      <td>24.21</td>\n",
       "      <td>No</td>\n",
       "      <td>No</td>\n",
       "      <td>No</td>\n",
       "      <td>0.0</td>\n",
       "      <td>0.0</td>\n",
       "      <td>No</td>\n",
       "      <td>Female</td>\n",
       "      <td>77</td>\n",
       "      <td>White</td>\n",
       "      <td>No</td>\n",
       "      <td>No</td>\n",
       "      <td>Good</td>\n",
       "      <td>6.0</td>\n",
       "      <td>No</td>\n",
       "      <td>No</td>\n",
       "      <td>Yes</td>\n",
       "    </tr>\n",
       "    <tr>\n",
       "      <th>4</th>\n",
       "      <td>0</td>\n",
       "      <td>23.71</td>\n",
       "      <td>No</td>\n",
       "      <td>No</td>\n",
       "      <td>No</td>\n",
       "      <td>28.0</td>\n",
       "      <td>0.0</td>\n",
       "      <td>Yes</td>\n",
       "      <td>Female</td>\n",
       "      <td>42</td>\n",
       "      <td>White</td>\n",
       "      <td>No</td>\n",
       "      <td>Yes</td>\n",
       "      <td>Very good</td>\n",
       "      <td>8.0</td>\n",
       "      <td>No</td>\n",
       "      <td>No</td>\n",
       "      <td>No</td>\n",
       "    </tr>\n",
       "  </tbody>\n",
       "</table>\n",
       "</div>"
      ],
      "text/plain": [
       "   HeartDisease    BMI Smoking AlcoholDrinking Stroke  PhysicalHealth  \\\n",
       "0             0  16.60     Yes              No     No             3.0   \n",
       "1             0  20.34      No              No    Yes             0.0   \n",
       "2             0  26.58     Yes              No     No            20.0   \n",
       "3             0  24.21      No              No     No             0.0   \n",
       "4             0  23.71      No              No     No            28.0   \n",
       "\n",
       "   MentalHealth DiffWalking     Sex  AgeCategory   Race Diabetic  \\\n",
       "0          30.0          No  Female           57  White      Yes   \n",
       "1           0.0          No  Female           85  White       No   \n",
       "2          30.0          No    Male           67  White      Yes   \n",
       "3           0.0          No  Female           77  White       No   \n",
       "4           0.0         Yes  Female           42  White       No   \n",
       "\n",
       "  PhysicalActivity  GenHealth  SleepTime Asthma KidneyDisease SkinCancer  \n",
       "0              Yes  Very good        5.0    Yes            No        Yes  \n",
       "1              Yes  Very good        7.0     No            No         No  \n",
       "2              Yes       Fair        8.0    Yes            No         No  \n",
       "3               No       Good        6.0     No            No        Yes  \n",
       "4              Yes  Very good        8.0     No            No         No  "
      ]
     },
     "execution_count": 7,
     "metadata": {},
     "output_type": "execute_result"
    }
   ],
   "source": [
    "heart.head(5)"
   ]
  },
  {
   "cell_type": "code",
   "execution_count": 8,
   "metadata": {},
   "outputs": [],
   "source": [
    "heartyes = heart[heart.HeartDisease == 1]\n",
    "heartno = heart[heart.HeartDisease == 0]\n",
    "heartnodrop = heartno.sample(frac = 0.9, random_state = 0)\n",
    "heart = heart.drop(heartnodrop.index)"
   ]
  },
  {
   "cell_type": "code",
   "execution_count": 9,
   "metadata": {},
   "outputs": [
    {
     "data": {
      "text/plain": [
       "5          6.0\n",
       "10        30.0\n",
       "23         0.0\n",
       "29         0.0\n",
       "35        10.0\n",
       "          ... \n",
       "319765    30.0\n",
       "319767     0.0\n",
       "319781     0.0\n",
       "319786     0.0\n",
       "319790     7.0\n",
       "Name: PhysicalHealth, Length: 56615, dtype: float64"
      ]
     },
     "execution_count": 9,
     "metadata": {},
     "output_type": "execute_result"
    }
   ],
   "source": [
    "heart.head(5)\n",
    "heart.pop('BMI')\n",
    "heart.pop('MentalHealth')\n",
    "heart.pop('PhysicalHealth')"
   ]
  },
  {
   "cell_type": "code",
   "execution_count": 10,
   "metadata": {},
   "outputs": [],
   "source": [
    "col_num = ['AgeCategory' , 'SleepTime']"
   ]
  },
  {
   "cell_type": "code",
   "execution_count": 11,
   "metadata": {},
   "outputs": [],
   "source": [
    "col_cat = ['Sex', 'Race', 'Diabetic', 'GenHealth','Smoking', 'AlcoholDrinking', 'Stroke', 'DiffWalking', 'PhysicalActivity', 'Asthma', 'KidneyDisease', 'SkinCancer']"
   ]
  },
  {
   "cell_type": "code",
   "execution_count": 12,
   "metadata": {},
   "outputs": [],
   "source": [
    "heart_train = heart.sample(frac = 0.8, random_state = 0)\n",
    "heart_test = heart.drop(heart_train.index)"
   ]
  },
  {
   "cell_type": "code",
   "execution_count": null,
   "metadata": {},
   "outputs": [],
   "source": [
    "heart_train_answer = heart_train.pop(\"HeartDisease\")\n",
    "heart_test_answer = heart_test.pop(\"HeartDisease\")"
   ]
  },
  {
   "cell_type": "code",
   "execution_count": null,
   "metadata": {},
   "outputs": [
    {
     "data": {
      "text/plain": [
       "array([1, 1, 0, ..., 0, 1, 0])"
      ]
     },
     "execution_count": 13,
     "metadata": {},
     "output_type": "execute_result"
    }
   ],
   "source": [
    "Y = heart_train_answer.values\n",
    "X = pdm.pipeline(heart_train, col_num, col_cat)\n",
    "Y"
   ]
  },
  {
   "cell_type": "code",
   "execution_count": null,
   "metadata": {},
   "outputs": [
    {
     "data": {
      "text/plain": [
       "(45292, 35)"
      ]
     },
     "execution_count": 14,
     "metadata": {},
     "output_type": "execute_result"
    }
   ],
   "source": [
    "X.shape"
   ]
  },
  {
   "cell_type": "code",
   "execution_count": null,
   "metadata": {},
   "outputs": [],
   "source": [
    "y = heart_test_answer.values\n",
    "x = pdm.pipeline(heart_test, col_num, col_cat)"
   ]
  },
  {
   "cell_type": "code",
   "execution_count": null,
   "metadata": {},
   "outputs": [],
   "source": [
    "model = keras.models.Sequential([\n",
    "keras.layers.Dense(64, activation=\"relu\", input_shape=X.shape[1:]),\n",
    "keras.layers.Dense(128, activation=\"relu\"),\n",
    "keras.layers.Dropout(.1),\n",
    "keras.layers.Dense(1)\n",
    "])\n",
    "callback = tf.keras.callbacks.EarlyStopping(monitor='val_loss', patience=10, restore_best_weights= True)\n",
    "model.compile(loss=\"mean_squared_error\", optimizer= \"sgd\", metrics=['accuracy'])"
   ]
  },
  {
   "cell_type": "code",
   "execution_count": null,
   "metadata": {},
   "outputs": [
    {
     "name": "stdout",
     "output_type": "stream",
     "text": [
      "Epoch 1/100\n",
      "991/991 [==============================] - 1s 955us/step - loss: 0.1847 - accuracy: 0.7298 - val_loss: 0.1697 - val_accuracy: 0.7572\n",
      "Epoch 2/100\n",
      "991/991 [==============================] - 1s 885us/step - loss: 0.1712 - accuracy: 0.7504 - val_loss: 0.1661 - val_accuracy: 0.7616\n",
      "Epoch 3/100\n",
      "991/991 [==============================] - 1s 801us/step - loss: 0.1678 - accuracy: 0.7577 - val_loss: 0.1658 - val_accuracy: 0.7627\n",
      "Epoch 4/100\n",
      "991/991 [==============================] - 1s 782us/step - loss: 0.1663 - accuracy: 0.7592 - val_loss: 0.1650 - val_accuracy: 0.7627\n",
      "Epoch 5/100\n",
      "991/991 [==============================] - 1s 854us/step - loss: 0.1649 - accuracy: 0.7596 - val_loss: 0.1650 - val_accuracy: 0.7635\n",
      "Epoch 6/100\n",
      "991/991 [==============================] - 1s 774us/step - loss: 0.1646 - accuracy: 0.7598 - val_loss: 0.1641 - val_accuracy: 0.7645\n",
      "Epoch 7/100\n",
      "991/991 [==============================] - 1s 828us/step - loss: 0.1637 - accuracy: 0.7641 - val_loss: 0.1642 - val_accuracy: 0.7631\n",
      "Epoch 8/100\n",
      "991/991 [==============================] - 1s 833us/step - loss: 0.1637 - accuracy: 0.7627 - val_loss: 0.1639 - val_accuracy: 0.7641\n",
      "Epoch 9/100\n",
      "991/991 [==============================] - 1s 862us/step - loss: 0.1630 - accuracy: 0.7641 - val_loss: 0.1635 - val_accuracy: 0.7631\n",
      "Epoch 10/100\n",
      "991/991 [==============================] - 1s 783us/step - loss: 0.1629 - accuracy: 0.7645 - val_loss: 0.1636 - val_accuracy: 0.7641\n",
      "Epoch 11/100\n",
      "991/991 [==============================] - 1s 863us/step - loss: 0.1624 - accuracy: 0.7646 - val_loss: 0.1633 - val_accuracy: 0.7629\n",
      "Epoch 12/100\n",
      "991/991 [==============================] - 1s 802us/step - loss: 0.1624 - accuracy: 0.7641 - val_loss: 0.1631 - val_accuracy: 0.7627\n",
      "Epoch 13/100\n",
      "991/991 [==============================] - 1s 855us/step - loss: 0.1618 - accuracy: 0.7647 - val_loss: 0.1639 - val_accuracy: 0.7632\n",
      "Epoch 14/100\n",
      "991/991 [==============================] - 1s 840us/step - loss: 0.1615 - accuracy: 0.7647 - val_loss: 0.1629 - val_accuracy: 0.7643\n",
      "Epoch 15/100\n",
      "991/991 [==============================] - 1s 891us/step - loss: 0.1617 - accuracy: 0.7638 - val_loss: 0.1628 - val_accuracy: 0.7639\n",
      "Epoch 16/100\n",
      "991/991 [==============================] - 1s 905us/step - loss: 0.1619 - accuracy: 0.7644 - val_loss: 0.1635 - val_accuracy: 0.7632\n",
      "Epoch 17/100\n",
      "991/991 [==============================] - 1s 904us/step - loss: 0.1614 - accuracy: 0.7656 - val_loss: 0.1629 - val_accuracy: 0.7630\n",
      "Epoch 18/100\n",
      "991/991 [==============================] - 1s 804us/step - loss: 0.1613 - accuracy: 0.7659 - val_loss: 0.1628 - val_accuracy: 0.7631\n",
      "Epoch 19/100\n",
      "991/991 [==============================] - 1s 787us/step - loss: 0.1607 - accuracy: 0.7652 - val_loss: 0.1631 - val_accuracy: 0.7622\n",
      "Epoch 20/100\n",
      "991/991 [==============================] - 1s 919us/step - loss: 0.1609 - accuracy: 0.7656 - val_loss: 0.1630 - val_accuracy: 0.7635\n",
      "Epoch 21/100\n",
      "991/991 [==============================] - 1s 830us/step - loss: 0.1607 - accuracy: 0.7653 - val_loss: 0.1630 - val_accuracy: 0.7630\n",
      "Epoch 22/100\n",
      "991/991 [==============================] - 1s 800us/step - loss: 0.1609 - accuracy: 0.7673 - val_loss: 0.1633 - val_accuracy: 0.7635\n",
      "Epoch 23/100\n",
      "991/991 [==============================] - 1s 853us/step - loss: 0.1611 - accuracy: 0.7665 - val_loss: 0.1628 - val_accuracy: 0.7637\n",
      "Epoch 24/100\n",
      "991/991 [==============================] - 1s 849us/step - loss: 0.1606 - accuracy: 0.7660 - val_loss: 0.1627 - val_accuracy: 0.7642\n",
      "Epoch 25/100\n",
      "991/991 [==============================] - 1s 815us/step - loss: 0.1605 - accuracy: 0.7644 - val_loss: 0.1628 - val_accuracy: 0.7642\n",
      "Epoch 26/100\n",
      "991/991 [==============================] - 1s 927us/step - loss: 0.1607 - accuracy: 0.7657 - val_loss: 0.1627 - val_accuracy: 0.7632\n",
      "Epoch 27/100\n",
      "991/991 [==============================] - 1s 850us/step - loss: 0.1604 - accuracy: 0.7665 - val_loss: 0.1641 - val_accuracy: 0.7605\n",
      "Epoch 28/100\n",
      "991/991 [==============================] - 1s 893us/step - loss: 0.1601 - accuracy: 0.7661 - val_loss: 0.1625 - val_accuracy: 0.7638\n",
      "Epoch 29/100\n",
      "991/991 [==============================] - 1s 842us/step - loss: 0.1603 - accuracy: 0.7674 - val_loss: 0.1626 - val_accuracy: 0.7642\n",
      "Epoch 30/100\n",
      "991/991 [==============================] - 1s 868us/step - loss: 0.1603 - accuracy: 0.7664 - val_loss: 0.1627 - val_accuracy: 0.7645\n",
      "Epoch 31/100\n",
      "991/991 [==============================] - 1s 975us/step - loss: 0.1601 - accuracy: 0.7671 - val_loss: 0.1625 - val_accuracy: 0.7638\n",
      "Epoch 32/100\n",
      "991/991 [==============================] - 1s 924us/step - loss: 0.1600 - accuracy: 0.7667 - val_loss: 0.1628 - val_accuracy: 0.7636\n",
      "Epoch 33/100\n",
      "991/991 [==============================] - 1s 877us/step - loss: 0.1599 - accuracy: 0.7670 - val_loss: 0.1625 - val_accuracy: 0.7642\n",
      "Epoch 34/100\n",
      "991/991 [==============================] - 1s 891us/step - loss: 0.1599 - accuracy: 0.7663 - val_loss: 0.1627 - val_accuracy: 0.7635\n",
      "Epoch 35/100\n",
      "991/991 [==============================] - 1s 944us/step - loss: 0.1598 - accuracy: 0.7680 - val_loss: 0.1627 - val_accuracy: 0.7635\n",
      "Epoch 36/100\n",
      "991/991 [==============================] - 1s 887us/step - loss: 0.1596 - accuracy: 0.7675 - val_loss: 0.1626 - val_accuracy: 0.7643\n",
      "Epoch 37/100\n",
      "991/991 [==============================] - 1s 764us/step - loss: 0.1596 - accuracy: 0.7675 - val_loss: 0.1636 - val_accuracy: 0.7637\n",
      "Epoch 38/100\n",
      "991/991 [==============================] - 1s 892us/step - loss: 0.1594 - accuracy: 0.7665 - val_loss: 0.1625 - val_accuracy: 0.7644\n",
      "Epoch 39/100\n",
      "991/991 [==============================] - 1s 837us/step - loss: 0.1592 - accuracy: 0.7677 - val_loss: 0.1625 - val_accuracy: 0.7637\n",
      "Epoch 40/100\n",
      "991/991 [==============================] - 1s 907us/step - loss: 0.1595 - accuracy: 0.7682 - val_loss: 0.1626 - val_accuracy: 0.7644\n",
      "Epoch 41/100\n",
      "991/991 [==============================] - 1s 837us/step - loss: 0.1591 - accuracy: 0.7683 - val_loss: 0.1625 - val_accuracy: 0.7649\n"
     ]
    }
   ],
   "source": [
    "history = model.fit(X, Y, epochs=100, validation_split = 0.3,\n",
    "                     callbacks=[callback])"
   ]
  },
  {
   "cell_type": "code",
   "execution_count": null,
   "metadata": {},
   "outputs": [
    {
     "name": "stdout",
     "output_type": "stream",
     "text": [
      "INFO:tensorflow:Assets written to: model1/assets\n"
     ]
    }
   ],
   "source": [
    "model.save('model1')"
   ]
  },
  {
   "cell_type": "code",
   "execution_count": null,
   "metadata": {},
   "outputs": [
    {
     "name": "stdout",
     "output_type": "stream",
     "text": [
      "354/354 [==============================] - 0s 573us/step - loss: 0.1596 - accuracy: 0.7671\n"
     ]
    }
   ],
   "source": [
    "mse_test = model.evaluate(x, y)\n",
    "p = model.predict(X).flatten()\n",
    "for i in range(len(p)):\n",
    "    p[i] = 1 if p[i] >= 0.5 else 0"
   ]
  },
  {
   "cell_type": "code",
   "execution_count": null,
   "metadata": {},
   "outputs": [
    {
     "data": {
      "text/plain": [
       "0.21340797378481705"
      ]
     },
     "execution_count": 51,
     "metadata": {},
     "output_type": "execute_result"
    }
   ],
   "source": [
    "a = Y - p\n",
    "q=0\n",
    "for i in range(len(a)):\n",
    "    a[i] = 1 if a[i] == 1 else 0\n",
    "    q+=1 if Y[i] == 1 else 0\n",
    "abs(a).sum()/q"
   ]
  },
  {
   "cell_type": "code",
   "execution_count": null,
   "metadata": {},
   "outputs": [
    {
     "data": {
      "image/png": "[encoded data removed]",
      "text/plain": [
       "<Figure size 576x360 with 1 Axes>"
      ]
     },
     "metadata": {
      "needs_background": "light"
     },
     "output_type": "display_data"
    }
   ],
   "source": [
    "import pandas as pd\n",
    "import matplotlib.pyplot as plt\n",
    "pd.DataFrame(history.history).plot(figsize=(8, 5))\n",
    "plt.grid(True)\n",
    "plt.gca().set_ylim(0, 0.4)\n",
    "plt.show()"
   ]
  },
  {
   "cell_type": "code",
   "execution_count": null,
   "metadata": {},
   "outputs": [
    {
     "data": {
      "text/plain": [
       "array([0., 1., 1., 1., 1., 1., 1., 1., 1., 0., 1., 1., 0., 1., 1., 1., 1.,\n",
       "       1., 1., 1., 1., 1., 1., 1., 1., 0., 0., 1., 0., 0.], dtype=float32)"
      ]
     },
     "execution_count": 43,
     "metadata": {},
     "output_type": "execute_result"
    }
   ],
   "source": [
    "np.around(model.predict(x[:30]).flatten())"
   ]
  },
  {
   "cell_type": "code",
   "execution_count": null,
   "metadata": {},
   "outputs": [
    {
     "data": {
      "text/plain": [
       "array([1, 1, 1, 1, 1, 1, 1, 1, 1, 0, 1, 0, 0, 1, 1, 1, 1, 1, 0, 1, 0, 1,\n",
       "       0, 1, 1, 0, 0, 0, 0, 1])"
      ]
     },
     "execution_count": 44,
     "metadata": {},
     "output_type": "execute_result"
    }
   ],
   "source": [
    "y[:30]"
   ]
  }
 ],
 "metadata": {
  "interpreter": {
   "hash": "916dbcbb3f70747c44a77c7bcd40155683ae19c65e1c03b4aa3499c5328201f1"
  },
  "kernelspec": {
   "display_name": "Python 3.8.10 64-bit",
   "language": "python",
   "name": "python3"
  },
  "language_info": {
   "codemirror_mode": {
    "name": "ipython",
    "version": 3
   },
   "file_extension": ".py",
   "mimetype": "text/x-python",
   "name": "python",
   "nbconvert_exporter": "python",
   "pygments_lexer": "ipython3",
   "version": "3.8.10"
  },
  "orig_nbformat": 4
 },
 "nbformat": 4,
 "nbformat_minor": 2
}
